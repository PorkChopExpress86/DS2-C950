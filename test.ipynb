{
 "cells": [
  {
   "cell_type": "code",
   "execution_count": 1,
   "metadata": {},
   "outputs": [],
   "source": [
    "from Truck import Truck"
   ]
  },
  {
   "cell_type": "code",
   "execution_count": 2,
   "metadata": {},
   "outputs": [],
   "source": [
    "truck1 = Truck(1, 18, \"4001\", \"08:00:00\")"
   ]
  },
  {
   "cell_type": "code",
   "execution_count": 3,
   "metadata": {},
   "outputs": [],
   "source": [
    "def convert_to_hours(some_time: str) -> float:\n",
    "    h, m, s = some_time.split(\":\")\n",
    "    hrs = float(h)\n",
    "    hrs += float(m) / 60\n",
    "    hrs += float(s) / (60 * 60)\n",
    "    return hrs"
   ]
  },
  {
   "cell_type": "code",
   "execution_count": 8,
   "metadata": {},
   "outputs": [],
   "source": [
    "def truck_finish_time(truck: Truck, score: float):\n",
    "    departure_time = convert_to_hours(truck.departure_time)\n",
    "    total_time = departure_time + score / truck.speed\n",
    "    hours = total_time - (total_time % 1)\n",
    "    minutes = (total_time % 1) * 60\n",
    "    seconds = (minutes % 1) * 60\n",
    "    minutes = int(minutes)\n",
    "    seconds = int(round(seconds, 0))\n",
    "    if 0 < hours < 10:\n",
    "        hours_str = \"0\" + str(int(hours))\n",
    "    else:\n",
    "        hours_str = str(hours)\n",
    "\n",
    "    if 0 < minutes < 10:\n",
    "        minutes_str = \"0\" + str(minutes)\n",
    "    else:\n",
    "        minutes_str = str(minutes)\n",
    "\n",
    "    if 0 < seconds < 10:\n",
    "        seconds_str = \"0\" + str(seconds)\n",
    "    else:\n",
    "        seconds_str = str(seconds)\n",
    "\n",
    "    return f\"{hours_str}:{minutes_str}:{seconds_str}\""
   ]
  },
  {
   "cell_type": "code",
   "execution_count": 10,
   "metadata": {},
   "outputs": [
    {
     "data": {
      "text/plain": [
       "'09:35:0'"
      ]
     },
     "execution_count": 10,
     "metadata": {},
     "output_type": "execute_result"
    }
   ],
   "source": [
    "truck_finish_time(truck1, 28.5)"
   ]
  },
  {
   "cell_type": "code",
   "execution_count": null,
   "metadata": {},
   "outputs": [],
   "source": []
  }
 ],
 "metadata": {
  "kernelspec": {
   "display_name": "C950-KaA80vpF",
   "language": "python",
   "name": "python3"
  },
  "language_info": {
   "codemirror_mode": {
    "name": "ipython",
    "version": 3
   },
   "file_extension": ".py",
   "mimetype": "text/x-python",
   "name": "python",
   "nbconvert_exporter": "python",
   "pygments_lexer": "ipython3",
   "version": "3.11.4"
  },
  "orig_nbformat": 4
 },
 "nbformat": 4,
 "nbformat_minor": 2
}
